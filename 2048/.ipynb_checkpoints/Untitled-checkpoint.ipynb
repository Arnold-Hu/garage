{
 "cells": [
  {
   "cell_type": "code",
   "execution_count": 1,
   "metadata": {
    "collapsed": true
   },
   "outputs": [],
   "source": [
    "import ai_2048\n",
    "import numpy as np"
   ]
  },
  {
   "cell_type": "code",
   "execution_count": 180,
   "metadata": {
    "collapsed": false
   },
   "outputs": [
    {
     "data": {
      "text/plain": [
       "array([[1, 5, 2, 1],\n",
       "       [7, 4, 6, 4],\n",
       "       [3, 5, 3, 2],\n",
       "       [2, 1, 0, 0]])"
      ]
     },
     "execution_count": 180,
     "metadata": {},
     "output_type": "execute_result"
    }
   ],
   "source": [
    "ori_data"
   ]
  },
  {
   "cell_type": "code",
   "execution_count": 112,
   "metadata": {
    "collapsed": true
   },
   "outputs": [],
   "source": [
    "da = ai_2048.Matrix(data=np.array([[1,2,3,4], [0,3,4,5], [0,0,0,0], [0,0,0,0]]))"
   ]
  },
  {
   "cell_type": "code",
   "execution_count": 113,
   "metadata": {
    "collapsed": false
   },
   "outputs": [
    {
     "data": {
      "text/plain": [
       "{2, 3}"
      ]
     },
     "execution_count": 113,
     "metadata": {},
     "output_type": "execute_result"
    }
   ],
   "source": [
    "da.ava_move"
   ]
  },
  {
   "cell_type": "code",
   "execution_count": 5,
   "metadata": {
    "collapsed": false
   },
   "outputs": [
    {
     "data": {
      "text/plain": [
       "<module 'ai_2048' from 'ai_2048.py'>"
      ]
     },
     "execution_count": 5,
     "metadata": {},
     "output_type": "execute_result"
    }
   ],
   "source": [
    "reload(ai_2048)"
   ]
  },
  {
   "cell_type": "code",
   "execution_count": 3,
   "metadata": {
    "collapsed": false
   },
   "outputs": [
    {
     "name": "stdout",
     "output_type": "stream",
     "text": [
      "The slowest run took 32.27 times longer than the fastest. This could mean that an intermediate result is being cached.\n",
      "10000 loops, best of 3: 38.8 µs per loop\n"
     ]
    }
   ],
   "source": [
    "%%timeit\n",
    "m.push(0)"
   ]
  },
  {
   "cell_type": "code",
   "execution_count": 31,
   "metadata": {
    "collapsed": false
   },
   "outputs": [
    {
     "data": {
      "text/plain": [
       "2"
      ]
     },
     "execution_count": 31,
     "metadata": {},
     "output_type": "execute_result"
    }
   ],
   "source": [
    "random.randint(1,4)"
   ]
  },
  {
   "cell_type": "code",
   "execution_count": 4,
   "metadata": {
    "collapsed": false
   },
   "outputs": [
    {
     "name": "stdout",
     "output_type": "stream",
     "text": [
      "100000 loops, best of 3: 15.8 µs per loop\n"
     ]
    }
   ],
   "source": [
    "%%timeit\n",
    "n = ai_2048.Matrix()"
   ]
  },
  {
   "cell_type": "code",
   "execution_count": 6,
   "metadata": {
    "collapsed": false
   },
   "outputs": [
    {
     "name": "stdout",
     "output_type": "stream",
     "text": [
      "100000 loops, best of 3: 19.2 µs per loop\n"
     ]
    }
   ],
   "source": [
    "%%timeit\n",
    "n = ai_2048.Matrix()\n",
    "n._gen_random_2()"
   ]
  },
  {
   "cell_type": "code",
   "execution_count": 7,
   "metadata": {
    "collapsed": false
   },
   "outputs": [
    {
     "name": "stdout",
     "output_type": "stream",
     "text": [
      "10000 loops, best of 3: 64.4 µs per loop\n"
     ]
    }
   ],
   "source": [
    "%%timeit\n",
    "n = ai_2048.Matrix()\n",
    "n._gen_random_2()\n",
    "n.push(0)"
   ]
  },
  {
   "cell_type": "code",
   "execution_count": 14,
   "metadata": {
    "collapsed": false
   },
   "outputs": [
    {
     "name": "stdout",
     "output_type": "stream",
     "text": [
      "10000 loops, best of 3: 63.2 µs per loop\n"
     ]
    }
   ],
   "source": [
    "%%timeit\n",
    "n = ai_2048.Matrix()\n",
    "n.push(0)\n",
    "n._gen_random_2()\n",
    "n._check_alive()"
   ]
  },
  {
   "cell_type": "code",
   "execution_count": 17,
   "metadata": {
    "collapsed": false
   },
   "outputs": [
    {
     "name": "stdout",
     "output_type": "stream",
     "text": [
      "empty list: set([])\n",
      "score: None\n",
      "ava move: set([0, 1, 2, 3])\n",
      "flag: 0\n",
      "direction: None\n",
      "matrix data: \n",
      "2\t4\t8\t16\t\n",
      "2\t2\t2\t2\t\n",
      "4\t8\t16\t32\t\n",
      "8\t4\t8\t4\t\n",
      "\n"
     ]
    }
   ],
   "source": [
    "ori_data = np.array([[1,2,3,4],[1,1,1,1],[2,3,4,5],[3,2,3,2]])\n",
    "m = ai_2048.Matrix(data=ori_data)\n",
    "print m.info()"
   ]
  },
  {
   "cell_type": "code",
   "execution_count": 19,
   "metadata": {
    "collapsed": false
   },
   "outputs": [
    {
     "name": "stdout",
     "output_type": "stream",
     "text": [
      "2\t4\t8\t16\t\n",
      "2\t2\t2\t2\t\n",
      "4\t8\t16\t32\t\n",
      "8\t4\t8\t4\t\n",
      "\n"
     ]
    }
   ],
   "source": [
    "reload(ai_2048)\n",
    "depth = 100\n",
    "n = ai_2048.Matrix(data=ori_data)\n",
    "print n\n",
    "import random"
   ]
  },
  {
   "cell_type": "code",
   "execution_count": 24,
   "metadata": {
    "collapsed": false
   },
   "outputs": [
    {
     "name": "stdout",
     "output_type": "stream",
     "text": [
      "99.5\n",
      "49.0\n",
      "63.0\n",
      "64.0\n",
      "75.0\n",
      "43.5\n",
      "25.0\n",
      "67.0\n",
      "128.0\n",
      "70.5\n",
      "88.5\n",
      "68.5\n",
      "118.0\n",
      "86.0\n",
      "86.0\n",
      "100.0\n",
      "61.5\n",
      "107.0\n",
      "63.0\n",
      "77.5\n",
      "88.5\n",
      "57.0\n",
      "51.0\n",
      "98.5\n",
      "132.5\n",
      "103.5\n",
      "46.0\n",
      "85.5\n",
      "129.0\n",
      "71.5\n",
      "118.0\n",
      "81.5\n",
      "39.5\n",
      "100.5\n",
      "103.0\n",
      "86.5\n",
      "52.0\n",
      "83.5\n",
      "61.0\n",
      "104.5\n",
      "102.5\n",
      "112.5\n",
      "96.0\n",
      "98.5\n",
      "78.5\n",
      "116.5\n",
      "82.0\n",
      "120.5\n",
      "57.0\n",
      "79.0\n",
      "54.5\n",
      "55.0\n",
      "67.0\n",
      "82.5\n",
      "129.5\n",
      "81.0\n",
      "77.5\n",
      "88.0\n",
      "97.5\n",
      "74.0\n",
      "90.5\n",
      "52.5\n",
      "109.0\n",
      "100.0\n",
      "70.0\n",
      "44.5\n",
      "71.0\n",
      "83.5\n",
      "48.0\n",
      "49.5\n",
      "73.0\n",
      "66.5\n",
      "99.0\n",
      "47.0\n",
      "92.5\n",
      "40.0\n",
      "101.0\n",
      "70.0\n",
      "102.0\n",
      "132.5\n",
      "115.5\n",
      "95.5\n",
      "101.5\n",
      "77.5\n",
      "116.0\n",
      "91.0\n",
      "104.5\n",
      "81.0\n",
      "67.0\n",
      "71.0\n",
      "37.0\n",
      "116.0\n",
      "65.5\n",
      "94.5\n",
      "97.5\n",
      "136.0\n",
      "81.5\n",
      "92.5\n",
      "78.5\n",
      "90.0\n",
      "91.0\n",
      "37.0\n",
      "72.5\n",
      "80.5\n",
      "63.0\n",
      "36.0\n",
      "68.0\n",
      "79.0\n",
      "53.0\n",
      "100.0\n",
      "49.5\n",
      "74.5\n",
      "44.5\n",
      "88.0\n",
      "79.0\n",
      "56.0\n",
      "68.5\n",
      "98.5\n",
      "84.5\n",
      "101.5\n",
      "111.5\n",
      "81.5\n",
      "101.5\n",
      "71.5\n",
      "70.0\n",
      "69.0\n",
      "51.0\n",
      "112.5\n",
      "57.0\n",
      "94.5\n",
      "75.0\n",
      "49.0\n",
      "149.5\n",
      "92.5\n",
      "49.0\n",
      "82.0\n",
      "38.0\n",
      "73.0\n",
      "110.0\n",
      "64.5\n",
      "34.5\n",
      "60.5\n",
      "109.0\n",
      "109.0\n",
      "52.5\n",
      "94.5\n",
      "46.5\n",
      "94.5\n",
      "92.5\n",
      "54.5\n",
      "100.0\n",
      "97.5\n",
      "96.5\n",
      "65.5\n",
      "122.5\n",
      "77.0\n",
      "97.5\n",
      "92.5\n",
      "73.5\n",
      "93.0\n",
      "55.0\n",
      "36.5\n",
      "62.0\n",
      "97.0\n",
      "105.0\n",
      "83.0\n",
      "46.0\n",
      "129.5\n",
      "63.0\n",
      "102.5\n",
      "110.5\n",
      "138.5\n",
      "52.5\n",
      "114.0\n",
      "46.0\n",
      "57.5\n",
      "103.5\n",
      "58.5\n",
      "75.0\n",
      "100.5\n",
      "91.0\n",
      "84.0\n",
      "60.5\n",
      "72.5\n",
      "46.5\n",
      "71.5\n",
      "94.0\n",
      "122.0\n",
      "102.0\n",
      "105.5\n",
      "113.0\n",
      "85.0\n",
      "116.5\n",
      "51.0\n",
      "69.5\n",
      "84.5\n",
      "121.0\n",
      "103.0\n",
      "83.0\n",
      "40.5\n",
      "103.0\n",
      "70.5\n",
      "93.5\n",
      "63.5\n",
      "89.5\n",
      "85.0\n",
      "91.5\n",
      "93.0\n",
      "94.0\n",
      "95.0\n",
      "99.0\n",
      "30.5\n",
      "65.5\n",
      "49.0\n",
      "57.5\n",
      "79.0\n",
      "109.0\n",
      "69.5\n",
      "112.5\n",
      "69.5\n",
      "72.0\n",
      "81.5\n",
      "73.0\n",
      "72.0\n",
      "86.5\n",
      "73.0\n",
      "69.5\n",
      "110.0\n",
      "84.0\n",
      "115.0\n",
      "36.5\n",
      "105.5\n",
      "85.0\n",
      "104.0\n",
      "75.0\n",
      "86.5\n",
      "44.5\n",
      "130.0\n",
      "60.0\n",
      "67.5\n",
      "84.5\n",
      "108.5\n",
      "65.5\n",
      "93.0\n",
      "114.0\n",
      "79.5\n",
      "119.5\n",
      "114.0\n",
      "112.5\n",
      "72.0\n",
      "55.0\n",
      "110.0\n",
      "47.5\n",
      "93.0\n",
      "68.0\n",
      "81.0\n",
      "59.0\n",
      "82.0\n",
      "70.0\n",
      "94.5\n",
      "132.0\n",
      "48.5\n",
      "73.0\n",
      "140.0\n",
      "98.5\n",
      "101.5\n",
      "55.5\n",
      "29.5\n",
      "75.0\n",
      "48.0\n",
      "95.0\n",
      "103.0\n",
      "69.5\n",
      "68.5\n",
      "67.5\n",
      "82.5\n",
      "67.0\n",
      "83.0\n",
      "36.5\n",
      "47.0\n",
      "106.0\n",
      "71.0\n",
      "75.0\n",
      "50.0\n",
      "78.0\n",
      "94.5\n",
      "107.5\n",
      "79.0\n",
      "40.5\n",
      "78.0\n",
      "88.0\n",
      "125.0\n",
      "82.5\n",
      "96.5\n",
      "115.5\n",
      "107.5\n",
      "82.5\n",
      "116.5\n",
      "73.5\n",
      "80.5\n",
      "100 loops, best of 3: 1.56 ms per loop\n"
     ]
    }
   ],
   "source": [
    "%%timeit -n 100\n",
    "\n",
    "score = 0\n",
    "n = ai_2048.Matrix()\n",
    "for j in range(10):\n",
    "    direction = random.sample(n.ava_move, 1)[0]\n",
    "    n.push(direction)\n",
    "    n._gen_random()\n",
    "    if not n.check_move():\n",
    "        score = 10000000\n",
    "        break\n",
    "score = n.get_score()\n",
    "print score"
   ]
  },
  {
   "cell_type": "code",
   "execution_count": 173,
   "metadata": {
    "collapsed": true
   },
   "outputs": [],
   "source": [
    "n = ai_2048.Matrix(data=ori_data)"
   ]
  },
  {
   "cell_type": "code",
   "execution_count": 142,
   "metadata": {
    "collapsed": false
   },
   "outputs": [
    {
     "name": "stdout",
     "output_type": "stream",
     "text": [
      "2\t4\t2\t8\t\n",
      "1024\t16\t32\t16\t\n",
      "2\t64\t1024\t32\t\n",
      "*\t2048\t8\t2\t\n",
      "\n"
     ]
    }
   ],
   "source": [
    "d = np.array([[1,2,1,3],[10,4,5,4],[1,6,10,5],[0, 11, 3, 1]])\n",
    "dd = ai_2048.Matrix(data=d)\n",
    "print dd"
   ]
  },
  {
   "cell_type": "code",
   "execution_count": 154,
   "metadata": {
    "collapsed": false
   },
   "outputs": [
    {
     "data": {
      "text/plain": [
       "(1, 10000000)"
      ]
     },
     "execution_count": 154,
     "metadata": {},
     "output_type": "execute_result"
    }
   ],
   "source": [
    "ai_2048.choose_direction(dd, depth=0, has_log=False)"
   ]
  },
  {
   "cell_type": "code",
   "execution_count": 151,
   "metadata": {
    "collapsed": false
   },
   "outputs": [
    {
     "data": {
      "text/plain": [
       "1"
      ]
     },
     "execution_count": 151,
     "metadata": {},
     "output_type": "execute_result"
    }
   ],
   "source": [
    "dd.push(2)\n",
    "dd._gen_random()"
   ]
  },
  {
   "cell_type": "code",
   "execution_count": 2,
   "metadata": {
    "collapsed": true
   },
   "outputs": [],
   "source": [
    "d = ai_2048.Matrix()"
   ]
  },
  {
   "cell_type": "code",
   "execution_count": 12,
   "metadata": {
    "collapsed": false
   },
   "outputs": [
    {
     "ename": "ValueError",
     "evalue": "sample larger than population",
     "output_type": "error",
     "traceback": [
      "\u001b[0;31m---------------------------------------------------------------------------\u001b[0m",
      "\u001b[0;31mValueError\u001b[0m                                Traceback (most recent call last)",
      "\u001b[0;32m<ipython-input-12-b24e8dab4207>\u001b[0m in \u001b[0;36m<module>\u001b[0;34m()\u001b[0m\n\u001b[1;32m      1\u001b[0m \u001b[0mreload\u001b[0m\u001b[0;34m(\u001b[0m\u001b[0mai_2048\u001b[0m\u001b[0;34m)\u001b[0m\u001b[0;34m\u001b[0m\u001b[0m\n\u001b[0;32m----> 2\u001b[0;31m \u001b[0mai_2048\u001b[0m\u001b[0;34m.\u001b[0m\u001b[0mevaluate_direction_by_mentcaro\u001b[0m\u001b[0;34m(\u001b[0m\u001b[0mm\u001b[0m\u001b[0;34m,\u001b[0m \u001b[0mdepth\u001b[0m\u001b[0;34m=\u001b[0m\u001b[0;36m5\u001b[0m\u001b[0;34m,\u001b[0m \u001b[0mturns\u001b[0m\u001b[0;34m=\u001b[0m\u001b[0;36m2000\u001b[0m\u001b[0;34m)\u001b[0m\u001b[0;34m\u001b[0m\u001b[0m\n\u001b[0m",
      "\u001b[0;32m/Users/hubingcheng/code/garage/2048/ai_2048.pyc\u001b[0m in \u001b[0;36mevaluate_direction_by_mentcaro\u001b[0;34m(node, depth, turns)\u001b[0m\n\u001b[1;32m    431\u001b[0m         \u001b[0mnew_node\u001b[0m \u001b[0;34m=\u001b[0m \u001b[0mMatrix\u001b[0m\u001b[0;34m(\u001b[0m\u001b[0mnode\u001b[0m\u001b[0;34m)\u001b[0m\u001b[0;34m\u001b[0m\u001b[0m\n\u001b[1;32m    432\u001b[0m         \u001b[0;32mfor\u001b[0m \u001b[0mj\u001b[0m \u001b[0;32min\u001b[0m \u001b[0mrange\u001b[0m\u001b[0;34m(\u001b[0m\u001b[0mdepth\u001b[0m\u001b[0;34m)\u001b[0m\u001b[0;34m:\u001b[0m\u001b[0;34m\u001b[0m\u001b[0m\n\u001b[0;32m--> 433\u001b[0;31m             \u001b[0mnew_node\u001b[0m\u001b[0;34m.\u001b[0m\u001b[0m_gen_random\u001b[0m\u001b[0;34m(\u001b[0m\u001b[0;34m)\u001b[0m\u001b[0;34m\u001b[0m\u001b[0m\n\u001b[0m\u001b[1;32m    434\u001b[0m             \u001b[0;32mif\u001b[0m \u001b[0;32mnot\u001b[0m \u001b[0mnew_node\u001b[0m\u001b[0;34m.\u001b[0m\u001b[0mcheck_move\u001b[0m\u001b[0;34m(\u001b[0m\u001b[0;34m)\u001b[0m\u001b[0;34m:\u001b[0m\u001b[0;34m\u001b[0m\u001b[0m\n\u001b[1;32m    435\u001b[0m                 \u001b[0mscore\u001b[0m \u001b[0;34m+=\u001b[0m \u001b[0;36m1000000000\u001b[0m\u001b[0;34m\u001b[0m\u001b[0m\n",
      "\u001b[0;32m/Users/hubingcheng/code/garage/2048/ai_2048.pyc\u001b[0m in \u001b[0;36m_gen_random\u001b[0;34m(self, pair, number)\u001b[0m\n\u001b[1;32m    156\u001b[0m                 \u001b[0mnumber\u001b[0m \u001b[0;34m=\u001b[0m \u001b[0;36m1\u001b[0m\u001b[0;34m\u001b[0m\u001b[0m\n\u001b[1;32m    157\u001b[0m         \u001b[0;32mif\u001b[0m \u001b[0mpair\u001b[0m \u001b[0;32mis\u001b[0m \u001b[0mNone\u001b[0m\u001b[0;34m:\u001b[0m\u001b[0;34m\u001b[0m\u001b[0m\n\u001b[0;32m--> 158\u001b[0;31m             \u001b[0mpair\u001b[0m \u001b[0;34m=\u001b[0m \u001b[0mrandom\u001b[0m\u001b[0;34m.\u001b[0m\u001b[0msample\u001b[0m\u001b[0;34m(\u001b[0m\u001b[0mself\u001b[0m\u001b[0;34m.\u001b[0m\u001b[0mempty_list\u001b[0m\u001b[0;34m,\u001b[0m \u001b[0;36m1\u001b[0m\u001b[0;34m)\u001b[0m\u001b[0;34m[\u001b[0m\u001b[0;36m0\u001b[0m\u001b[0;34m]\u001b[0m\u001b[0;34m\u001b[0m\u001b[0m\n\u001b[0m\u001b[1;32m    159\u001b[0m             \u001b[0mself\u001b[0m\u001b[0;34m.\u001b[0m\u001b[0mdata\u001b[0m\u001b[0;34m[\u001b[0m\u001b[0mpair\u001b[0m\u001b[0;34m]\u001b[0m \u001b[0;34m=\u001b[0m \u001b[0mnumber\u001b[0m\u001b[0;34m\u001b[0m\u001b[0m\n\u001b[1;32m    160\u001b[0m             \u001b[0mself\u001b[0m\u001b[0;34m.\u001b[0m\u001b[0mempty_list\u001b[0m\u001b[0;34m.\u001b[0m\u001b[0mremove\u001b[0m\u001b[0;34m(\u001b[0m\u001b[0mpair\u001b[0m\u001b[0;34m)\u001b[0m\u001b[0;34m\u001b[0m\u001b[0m\n",
      "\u001b[0;32m/System/Library/Frameworks/Python.framework/Versions/2.7/lib/python2.7/random.pyc\u001b[0m in \u001b[0;36msample\u001b[0;34m(self, population, k)\u001b[0m\n\u001b[1;32m    321\u001b[0m         \u001b[0mn\u001b[0m \u001b[0;34m=\u001b[0m \u001b[0mlen\u001b[0m\u001b[0;34m(\u001b[0m\u001b[0mpopulation\u001b[0m\u001b[0;34m)\u001b[0m\u001b[0;34m\u001b[0m\u001b[0m\n\u001b[1;32m    322\u001b[0m         \u001b[0;32mif\u001b[0m \u001b[0;32mnot\u001b[0m \u001b[0;36m0\u001b[0m \u001b[0;34m<=\u001b[0m \u001b[0mk\u001b[0m \u001b[0;34m<=\u001b[0m \u001b[0mn\u001b[0m\u001b[0;34m:\u001b[0m\u001b[0;34m\u001b[0m\u001b[0m\n\u001b[0;32m--> 323\u001b[0;31m             \u001b[0;32mraise\u001b[0m \u001b[0mValueError\u001b[0m\u001b[0;34m(\u001b[0m\u001b[0;34m\"sample larger than population\"\u001b[0m\u001b[0;34m)\u001b[0m\u001b[0;34m\u001b[0m\u001b[0m\n\u001b[0m\u001b[1;32m    324\u001b[0m         \u001b[0mrandom\u001b[0m \u001b[0;34m=\u001b[0m \u001b[0mself\u001b[0m\u001b[0;34m.\u001b[0m\u001b[0mrandom\u001b[0m\u001b[0;34m\u001b[0m\u001b[0m\n\u001b[1;32m    325\u001b[0m         \u001b[0m_int\u001b[0m \u001b[0;34m=\u001b[0m \u001b[0mint\u001b[0m\u001b[0;34m\u001b[0m\u001b[0m\n",
      "\u001b[0;31mValueError\u001b[0m: sample larger than population"
     ]
    }
   ],
   "source": [
    "reload(ai_2048)\n",
    "ai_2048.evaluate_direction_by_mentcaro(m, depth=5, turns=2000)"
   ]
  },
  {
   "cell_type": "code",
   "execution_count": 4,
   "metadata": {
    "collapsed": true
   },
   "outputs": [],
   "source": [
    "class Solution(object):\n",
    "    def __init__(self):\n",
    "        left = 0\n",
    "        right = 0\n",
    "    def sortColors(self, nums):\n",
    "        \"\"\"\n",
    "        :type nums: List[int]\n",
    "        :rtype: void Do not return anything, modify nums in-place instead.\n",
    "        \"\"\"\n",
    "        left = 0\n",
    "        right = len(nums) - 1\n",
    "        cur = 0\n",
    "        while (cur > right):\n",
    "            if nums[cur] == 0:\n",
    "                nums[left] = nums[cur]\n",
    "                left += 1\n",
    "                cur += 1\n",
    "            elif nums[cur] == 2:\n",
    "                nums[cur], nums[right] = nums[right], nums[cur]\n",
    "                right -= 1\n",
    "            else:\n",
    "                cur += 1\n",
    "            print nums\n",
    "                "
   ]
  },
  {
   "cell_type": "code",
   "execution_count": 5,
   "metadata": {
    "collapsed": true
   },
   "outputs": [],
   "source": [
    " p = [0,1,0,2,1,0]"
   ]
  },
  {
   "cell_type": "code",
   "execution_count": null,
   "metadata": {
    "collapsed": true
   },
   "outputs": [],
   "source": []
  }
 ],
 "metadata": {
  "kernelspec": {
   "display_name": "Python 2",
   "language": "python",
   "name": "python2"
  },
  "language_info": {
   "codemirror_mode": {
    "name": "ipython",
    "version": 2
   },
   "file_extension": ".py",
   "mimetype": "text/x-python",
   "name": "python",
   "nbconvert_exporter": "python",
   "pygments_lexer": "ipython2",
   "version": "2.7.10"
  }
 },
 "nbformat": 4,
 "nbformat_minor": 0
}
